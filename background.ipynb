{
 "cells": [
  {
   "cell_type": "markdown",
   "id": "fae713f1-8980-4ad4-955c-2f83145a0aca",
   "metadata": {},
   "source": [
    "## Background\n",
    "\n",
    "Given data $(y_i, x_i, z_i), i = 1, \\dots, n$ with outcome $y_i \\in \\mathbb{R}$, covariates $x_i \\in \\mathbb{R}^p$ and effect modifiers $z_i \\in \\mathbb{R}^q$ one assumes the varying coefficient model\n",
    "\n",
    "$$\n",
    "y_i = \\sum_{j=1}^p x_{ij} \\beta_j(z_i) + \\varepsilon_i = x_i^T \\beta(z_i) + \\varepsilon_i\n",
    "$$\n",
    "\n",
    "(Hastie 1993). The coefficients $\\beta_1(\\cdot), \\dots, \\beta_p(\\cdot)$ determine a (rather simple) functional\n",
    "relationship between outcome $y$ and (likely low dimensional) covariate $x$. The coefficients themselves are considered to be\n",
    "(potentially complex) functions of the (potentially high dimensional) effect modifier $z$.\n",
    "\n",
    "Each varying coefficient mapping $\\beta_j(\\cdot)$ is estimated using an ensemble of gradient\n",
    "boosted decision trees. In doing so a loss function\n",
    "\n",
    "$$\n",
    "    L(y,\\beta) = \\frac{1}{n} \\sum_{i=1}^n \\ell(y_i, x_i^T\\beta(z_i))\n",
    "$$\n",
    "\n",
    "is iteratively minimized.\n",
    "\n",
    "$\\beta_1 = 0$  \n",
    "for $m = 1, \\dots M$ do:  \n",
    "    $\\tilde{y_i} = $  \n",
    "for $j = 1, \\dots p$ do:  \n",
    "\n",
    "\n",
    "\n",
    "## References\n",
    "***********\n",
    "\n",
    "- Hastie, T., & Tibshirani, R. (1993). Varying‐coefficient models. Journal of the Royal Statistical Society: Series B (Methodological), 55(4), 757-779.\n",
    "- Friedman, J. H. (2001). Greedy function approximation: a gradient boosting machine. Annals of statistics, 1189-1232.\n",
    "- Zhou, Y., & Hooker, G. (2019). Tree boosted varying coefficient models. arXiv preprint arXiv:1904.01058"
   ]
  },
  {
   "cell_type": "code",
   "execution_count": null,
   "id": "bf5ee713-2684-4614-aa88-2f9496841870",
   "metadata": {},
   "outputs": [],
   "source": []
  }
 ],
 "metadata": {
  "kernelspec": {
   "display_name": "Python 3",
   "language": "python",
   "name": "python3"
  },
  "language_info": {
   "codemirror_mode": {
    "name": "ipython",
    "version": 3
   },
   "file_extension": ".py",
   "mimetype": "text/x-python",
   "name": "python",
   "nbconvert_exporter": "python",
   "pygments_lexer": "ipython3",
   "version": "3.8.10"
  }
 },
 "nbformat": 4,
 "nbformat_minor": 5
}
